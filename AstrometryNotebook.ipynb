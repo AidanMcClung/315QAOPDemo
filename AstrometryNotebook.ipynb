{
 "cells": [
  {
   "cell_type": "markdown",
   "metadata": {},
   "source": [
    "In order to properly work with our data we need to know where each image is. We do this by plate solving; the easiest way for us to do this is to uplaod each of our images to nova.astronomy.net. Doing this by hand is a bit tedious, so this notebook helps do it automatically.\n",
    "\n",
    "The general process is fairly simple:\n",
    "1. Use our API key to let the server know we're allowed to send it a bunch of things and that it can trust us.\n",
    "2. Make a list of every file that we've placed in a specific 'input' folder.\n",
    "3. Upload each of those files to Astrometry, and save the special number it assigns that submission.\n",
    "4. Wait a bit to make sure it has time to process. (If uploading lots of files, this should not be a problem in the slightest, as the time it takes us to uplaod is enough for it to process)\n",
    "5. Download a new, enchanced, fits file from Astrometry into the folder this notebook is in.\n",
    "6. Move all those downloaded files to their final home; the 'output' folder."
   ]
  },
  {
   "cell_type": "markdown",
   "metadata": {},
   "source": [
    "# Import Statements and Required Functions"
   ]
  },
  {
   "cell_type": "code",
   "execution_count": null,
   "metadata": {},
   "outputs": [],
   "source": [
    "import sys\n",
    "#My folder is at: /Users/aidanmcclung/Desktop/Summer_Exoplanets\n",
    "sys.path.append('/Users/aidanmcclung/Desktop/Summer_Exoplanets') #this lets python know to look here for import statements"
   ]
  },
  {
   "cell_type": "code",
   "execution_count": null,
   "metadata": {},
   "outputs": [],
   "source": [
    "\n",
    "#   Set whichever one of these is applicable to you. Hopefully it's the second one. ;p\n",
    "#import client #This is a .py file you need to have in the folder with this notebook\n",
    "import QAOP.client as client #This is a .py file you need to have in the QAOP folder\n",
    "\n",
    "import os #OS is essentially just the basic terminal comand line interface tools in python. \n",
    "#We need it to make folders and move our files around.\n",
    "\n",
    "#We need two packages in order to do our web operations:\n",
    "import requests #The default python webserver interfacing package\n",
    "import json #The python JavaScript Object Notation interfacing package\n",
    "\n",
    "from IPython.display import clear_output #to help with the progress bars :)\n",
    "\n",
    "#make sure there are input and output folders to use\n",
    "for rq_dir in [\"input\",\"output\"]:\n",
    "    if not os.listdir().count(rq_dir): print(rq_dir,\": dir does not exist, creating one\"); os.mkdir(rq_dir)"
   ]
  },
  {
   "cell_type": "markdown",
   "metadata": {},
   "source": [
    "## Function Definitions\n",
    "\n",
    "I created each of these functions, and have attempted to add enough comments to describe what they do.\n",
    "Knowing those specifics isn't necessary though, and if you're not interested you can absolutely **run each of these cells once** and move on to the **Main Program**"
   ]
  },
  {
   "cell_type": "code",
   "execution_count": null,
   "metadata": {},
   "outputs": [],
   "source": [
    "def findFileName(fn,debug=False):\n",
    "    if fn[-4:] == \".fit\": \n",
    "        name = fn[:-4]\n",
    "        if debug: print(\".fit file detected.  Saving filename as:\",name)\n",
    "    if fn[-5:] == \".fits\": \n",
    "        name = fn[:-5]\n",
    "        if debug: print(\".fits file detected. Saving filename as:\",name)\n",
    "    return name\n",
    "\n",
    "def getSubID(fn,debug=False):\n",
    "    #Now we need to upload the file to astrometry.net\n",
    "    # we do this using a method in the client class: upload()\n",
    "    #This then returns a json status, but we only care about the info it gives us about where it went,\n",
    "    # ie the \"Submission ID\", which we take out of the result.\n",
    "    SUBIDforThis = cAPI.upload('input/'+fn)[\"subid\"]\n",
    "    if debug: print(f\"SUBID for {fn} is {SUBIDforThis}\")\n",
    "    return SUBIDforThis\n",
    "\n",
    "def submitFile(fn,debug=False):\n",
    "    name = findFileName(fn) #detect whether .fits or .fit so we can get the right characters for the name\n",
    "    if debug: print(\"Submitting File:\",name)\n",
    "    subid = getSubID(fn) #This function is where we upload the file\n",
    "    nameSubs[name] = subid #We add what it was saved as to our own dictionary, so we know whats what.\n",
    "    return name #We return the name and add it to a list with this call, \n",
    "#which we then use later to iterate through all the things we uploaded"
   ]
  },
  {
   "cell_type": "code",
   "execution_count": null,
   "metadata": {},
   "outputs": [],
   "source": [
    "def getJobID(SubID,debug=False):\n",
    "    #When Astrometry does it's thing, we submit our image, but it hasn't been solved.\n",
    "    #Once it has been solved, it's assigned a \"jobID\" which we need in order to access the results.\n",
    "    R = requests.post('http://nova.astrometry.net/api/submissions/'+str(SubID))\n",
    "    #R will be an object with the response to the web post we sent.\n",
    "    #print(R.json()) #Uncomment to see this response\n",
    "    JOBIDSforThis = R.json()[\"jobs\"] #A submission *may* have multiple jobs. \n",
    "    JOBIDforThis = JOBIDSforThis[0] #We only care about the first one that was done\n",
    "    if debug: print(JOBIDforThis)\n",
    "    return JOBIDforThis\n",
    "\n",
    "\n",
    "from urllib.request import urlretrieve as saveFromWeb\n",
    "def saveNewFits(JOBIDforThis,name):\n",
    "    saveFromWeb(\"https://nova.astrometry.net/new_fits_file/\"+str(JOBIDforThis), name+\".fits\")\n",
    "    return name+\".fits\"\n",
    "\n",
    "def retrieveFile(name,debug=False):\n",
    "    #print(\"--------:\",nameSubs)\n",
    "    subid = nameSubs[name] #First retrieve the SubID for this file\n",
    "    jobid = getJobID(subid) #Next we acquire the JobID for it's succesful result\n",
    "    newName = saveNewFits(jobid,name) #We use the JobID to get the file from astrometry, \n",
    "    #and then we need the name in order to save it as the right name\n",
    "    return newName"
   ]
  },
  {
   "cell_type": "markdown",
   "metadata": {},
   "source": [
    "# Main Program"
   ]
  },
  {
   "cell_type": "code",
   "execution_count": null,
   "metadata": {},
   "outputs": [],
   "source": [
    "#We need to now log in to the API, this should be... possible...\n",
    "\n",
    "#USERS NEED TO ENTER AN API KEY!!!!\n",
    "\n",
    "APIKEY = input(\"Please enter your API Key\")\n",
    "#webboctjikkepcfj #Aidan's API Key\n",
    "\n",
    "cAPI = client.Client()\n",
    "cAPI.login(APIKEY)\n",
    "\n",
    "#webboctjikkepcfj #Aidan's API Key"
   ]
  },
  {
   "cell_type": "code",
   "execution_count": null,
   "metadata": {},
   "outputs": [],
   "source": [
    "#once we're logged in, we need to get all the files in the input directory.\n",
    "inputFiles_all = os.listdir(\"input\")\n",
    "#The program will pull in ANY files that are there; \n",
    "\n",
    "#sometimes there are hidden os files or such we don't want, so we need to filter those out.\n",
    "#print(inputFiles_all)\n",
    "inputFiles = []\n",
    "for file in inputFiles_all:\n",
    "    if file[-4:] == '.fit': inputFiles.append(file)\n",
    "#print(inputFiles)\n",
    "\n",
    "numFiles = len(inputFiles)\n",
    "print(numFiles,'Files:\\n',inputFiles)"
   ]
  },
  {
   "cell_type": "code",
   "execution_count": null,
   "metadata": {},
   "outputs": [],
   "source": [
    "#This dictionary will contain the mapping between the names and what submission IDs they were assigned \n",
    "# when they were uploaded.\n",
    "nameSubs = {}\n",
    "#We define it in it's own cell so that it doesn't ever get deleted/cleared accidentally \n",
    "# if we need to run a part of the program again.\n",
    "names = []"
   ]
  },
  {
   "cell_type": "code",
   "execution_count": null,
   "metadata": {},
   "outputs": [],
   "source": [
    "#Set these two here to maintain progress upon hitting an error. NOT FULLY FUNCTIONAL, USE WITH DISCRETION\n",
    "upload_progress = 0 \n",
    "checkFiles = []"
   ]
  },
  {
   "cell_type": "code",
   "execution_count": null,
   "metadata": {},
   "outputs": [],
   "source": [
    "while upload_progress < numFiles:\n",
    "    file = inputFiles[upload_progress]\n",
    "    #submit file\n",
    "    name = submitFile(file)\n",
    "    #save name\n",
    "    names.append(name)\n",
    "    checkFiles.append(file)\n",
    "    #print(file)\n",
    "    #Take care of some of the feedback stuff so we know how it's doing\n",
    "    upload_progress += 1\n",
    "    clear_output(wait=False); print('Upload Status:',upload_progress,'of',numFiles, \"   Most Recent File (Unordered):\",name)\n",
    "    \n",
    "\n",
    "#And lastly we just run a check to make sure that all of them get uploaded right. you should see nothing\n",
    "for file in inputFiles:\n",
    "    if not checkFiles.count(file): print(file,\"Was not present in the redundancy list.\")"
   ]
  },
  {
   "cell_type": "code",
   "execution_count": null,
   "metadata": {},
   "outputs": [],
   "source": [
    "savedFiles = []\n",
    "download_progress = 0\n",
    "numDown = len(names)"
   ]
  },
  {
   "cell_type": "code",
   "execution_count": null,
   "metadata": {},
   "outputs": [],
   "source": [
    "while download_progress < numDown:\n",
    "    name = names[download_progress]\n",
    "    if not savedFiles.count(name): #make sure we don't download twice if we added a name twice accidentally\n",
    "        downFile = retrieveFile(name)\n",
    "        savedFiles.append(downFile)\n",
    "    \n",
    "    #Take care of some of the feedback stuff so we know how it's doing\n",
    "    download_progress += 1\n",
    "    clear_output(wait=False); print('Download Status:',download_progress,'of',numDown, \"  Most Recent File (Unordered):\",savedFiles[-1])"
   ]
  },
  {
   "cell_type": "code",
   "execution_count": null,
   "metadata": {},
   "outputs": [],
   "source": [
    "#uncomment either of these if you need to check something. \n",
    "#You can copy the 7-digit number and paste it into the following link to look at the image in a web browser.\n",
    "#  https://nova.astrometry.net/user_images/[subid]#annotated\n",
    "\n",
    "#print(nameSubs)\n",
    "#print(len(nameSubs))"
   ]
  },
  {
   "cell_type": "code",
   "execution_count": null,
   "metadata": {},
   "outputs": [],
   "source": [
    "#if you want to look at what it saved:\n",
    "#print(savedFiles)"
   ]
  },
  {
   "cell_type": "code",
   "execution_count": null,
   "metadata": {},
   "outputs": [],
   "source": [
    "#If we ran the loop multiple times, when we redownloaded a file, it would have overwrote the old one.\n",
    "#However, it would still get readded to the list. So, we want to take out any duplicates, \n",
    "#which we can do by a sneaky trick; casting a dict and then back to a list:\n",
    "savedFiles = list(dict.fromkeys(savedFiles)) #remove duplicates\n",
    "#Note: this bug can be fixed by putting the savedFiles list in the same cell as it's loop, but then we can't continue if interrupted"
   ]
  },
  {
   "cell_type": "code",
   "execution_count": null,
   "metadata": {},
   "outputs": [],
   "source": [
    "#We can only download files to the same location as this python file, for cybersecurity reasons\n",
    "# After we've downloaded all the files into our main folder, we want to put them into their own \n",
    "# folder, which is what this lil loop here does\n",
    "\n",
    "#print(savedFiles) #troubleshooting\n",
    "for fn in savedFiles:\n",
    "    #if fn == '060.fits': continue #There was an error and 060.fits was corrupted. Replicate if you encounter problems\n",
    "    os.rename(fn,'output/'+fn)"
   ]
  },
  {
   "cell_type": "markdown",
   "metadata": {},
   "source": [
    "# Verification (Optional)\n",
    "\n",
    "To check that everything worked, you can compare the following four lists, and their lengths.\n",
    "\n",
    "If you're interested in seeing what changed by doing this process, you can do so with the cells that follow."
   ]
  },
  {
   "cell_type": "code",
   "execution_count": null,
   "metadata": {},
   "outputs": [],
   "source": [
    "#We may want to check that we did all the right things, by comparing the following:\n",
    "\n",
    "#print(nameSubs.keys()) #everything we uploaded\n",
    "#print(names) #Everything we uploaded in the most recent submission\n",
    "#print(savedFiles) #Everything we downloaded in the most recent retrieval\n",
    "#print(os.listdir('output')) #Everything we have now that we're done"
   ]
  },
  {
   "cell_type": "code",
   "execution_count": null,
   "metadata": {},
   "outputs": [],
   "source": [
    "#These two packages are only used to check on whether the program worked or not.\n",
    "from astropy.io import fits\n",
    "from astropy.wcs import WCS"
   ]
  },
  {
   "cell_type": "code",
   "execution_count": null,
   "metadata": {},
   "outputs": [],
   "source": [
    "print(\"Before Astrometry:\")\n",
    "print(\" \")\n",
    "\n",
    "inputFileName = \"k009.fit\" #Change this to be what file you'd like to check\n",
    "with fits.open(\"input/\" + inputFileName) as f:\n",
    "    print(f[0].header)\n",
    "\n",
    "print(\" \")\n",
    "print(\"------------------------------\")\n",
    "print(\"After Astrometry:\")\n",
    "print(\" \")\n",
    "\n",
    "outputFileName = inputFileName + \"s\" #change this if the only change wasn't .fit -> .fits\n",
    "with fits.open(\"output/\"+outputFileName) as f:\n",
    "    print(f[0].header)"
   ]
  },
  {
   "cell_type": "code",
   "execution_count": null,
   "metadata": {},
   "outputs": [],
   "source": [
    "print(\"Before Astrometry:\")\n",
    "print(\" \")\n",
    "\n",
    "inputFileName = \"k009.fit\" #Change this to be what file you'd like to check\n",
    "with fits.open(\"input/\" + inputFileName) as f:\n",
    "    w = WCS(f[0].header)\n",
    "    print(w)\n",
    "\n",
    "print(\" \")\n",
    "print(\"------------------------------\")\n",
    "print(\"After Astrometry:\")\n",
    "print(\" \")\n",
    "\n",
    "outputFileName = inputFileName + \"s\" #change this if the only change wasn't .fit -> .fits\n",
    "with fits.open(\"output/\"+outputFileName) as f:\n",
    "    w = WCS(f[0].header)\n",
    "    print(w)"
   ]
  },
  {
   "cell_type": "code",
   "execution_count": null,
   "metadata": {},
   "outputs": [],
   "source": []
  }
 ],
 "metadata": {
  "kernelspec": {
   "display_name": "Python 3",
   "language": "python",
   "name": "python3"
  },
  "language_info": {
   "codemirror_mode": {
    "name": "ipython",
    "version": 3
   },
   "file_extension": ".py",
   "mimetype": "text/x-python",
   "name": "python",
   "nbconvert_exporter": "python",
   "pygments_lexer": "ipython3",
   "version": "3.8.5"
  }
 },
 "nbformat": 4,
 "nbformat_minor": 4
}
