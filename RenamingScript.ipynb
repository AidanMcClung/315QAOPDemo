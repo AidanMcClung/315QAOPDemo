{
 "cells": [
  {
   "cell_type": "code",
   "execution_count": 2,
   "metadata": {},
   "outputs": [],
   "source": [
    "import os"
   ]
  },
  {
   "cell_type": "code",
   "execution_count": 14,
   "metadata": {},
   "outputs": [
    {
     "name": "stdout",
     "output_type": "stream",
     "text": [
      "[]\n"
     ]
    }
   ],
   "source": [
    "#print(os.listdir())\n",
    "#print(os.listdir('T21'))\n",
    "#print(os.listdir('T21/TrES-2'))\n",
    "#print(os.listdir('T21/TrES-2/20230807'))"
   ]
  },
  {
   "cell_type": "code",
   "execution_count": 8,
   "metadata": {},
   "outputs": [],
   "source": [
    "baseDir = 'T21/TrES-2/20230807/'\n",
    "for i in os.listdir( baseDir ):\n",
    "    #os.rename( baseDir + i, baseDir + i[-7:] )\n",
    "    #print(i)\n",
    "    #print(baseDir + i[-7:])\n",
    "    os.rename(baseDir+i,\"input/\"+i[-7:])"
   ]
  },
  {
   "cell_type": "code",
   "execution_count": 7,
   "metadata": {},
   "outputs": [
    {
     "name": "stdout",
     "output_type": "stream",
     "text": [
      "['060.fit', '074.fit', '048.fit', '114.fit', '100.fit', '128.fit', '129.fit', '101.fit', '115.fit', '049.fit', '075.fit', '061.fit', '088.fit', '077.fit', '063.fit', '103.fit', '117.fit', '116.fit', '102.fit', '062.fit', '076.fit', '089.fit', '099.fit', '072.fit', '066.fit', '106.fit', '112.fit', '113.fit', '107.fit', '067.fit', '073.fit', '098.fit', '059.fit', '065.fit', '071.fit', '139.fit', '111.fit', '105.fit', '104.fit', '110.fit', '138.fit', '070.fit', '064.fit', '058.fit', '003.fit', '017.fit', '188.fit', '177.fit', '163.fit', '162.fit', '176.fit', '189.fit', '016.fit', '002.fit', '014.fit', '028.fit', '160.fit', '174.fit', '148.fit', '149.fit', '175.fit', '161.fit', '029.fit', '001.fit', '015.fit', '039.fit', '011.fit', '005.fit', '159.fit', '165.fit', '171.fit', '170.fit', '164.fit', '158.fit', '004.fit', '010.fit', '038.fit', '006.fit', '012.fit', '172.fit', '166.fit', '167.fit', '173.fit', '013.fit', '007.fit', '022.fit', '036.fit', '195.fit', '181.fit', '156.fit', '142.fit', '143.fit', '157.fit', '180.fit', '194.fit', '037.fit', '023.fit', '035.fit', '021.fit', '009.fit', '182.fit', '141.fit', '155.fit', '169.fit', '168.fit', '154.fit', '140.fit', '183.fit', '008.fit', '020.fit', '034.fit', '018.fit', '030.fit', '024.fit', '187.fit', '193.fit', '178.fit', '144.fit', '150.fit', '151.fit', '145.fit', '179.fit', '192.fit', '186.fit', '025.fit', '031.fit', '019.fit', 'S_Store', '027.fit', '033.fit', '190.fit', '184.fit', '153.fit', '147.fit', '146.fit', '152.fit', '185.fit', '191.fit', '032.fit', '026.fit', '082.fit', '096.fit', '041.fit', '055.fit', '069.fit', '135.fit', '121.fit', '109.fit', '108.fit', '120.fit', '134.fit', '068.fit', '054.fit', '040.fit', '097.fit', '083.fit', '095.fit', '081.fit', '056.fit', '042.fit', '122.fit', '136.fit', '137.fit', '123.fit', '043.fit', '057.fit', '080.fit', '094.fit', '090.fit', '084.fit', '053.fit', '047.fit', '127.fit', '133.fit', '132.fit', '126.fit', '046.fit', '052.fit', '085.fit', '091.fit', '087.fit', '093.fit', '078.fit', '044.fit', '050.fit', '118.fit', '130.fit', '124.fit', '125.fit', '131.fit', '119.fit', '051.fit', '045.fit', '079.fit', '092.fit', '086.fit']\n"
     ]
    }
   ],
   "source": [
    "files = os.listdir('T21/TrES-2/20230807')\n",
    "print(files)\n",
    "for f in files:\n",
    "#    print(f[-7:])\n",
    "    os.rename('T21/TrES-2/20230807/'+f,'T21/TrES-2/20230807/'+f[-7:])\n",
    "#print(os.listdir('T21/Qatar 1/20230804'))"
   ]
  },
  {
   "cell_type": "code",
   "execution_count": null,
   "metadata": {},
   "outputs": [],
   "source": []
  }
 ],
 "metadata": {
  "kernelspec": {
   "display_name": "Python 3",
   "language": "python",
   "name": "python3"
  },
  "language_info": {
   "codemirror_mode": {
    "name": "ipython",
    "version": 3
   },
   "file_extension": ".py",
   "mimetype": "text/x-python",
   "name": "python",
   "nbconvert_exporter": "python",
   "pygments_lexer": "ipython3",
   "version": "3.8.5"
  }
 },
 "nbformat": 4,
 "nbformat_minor": 4
}
